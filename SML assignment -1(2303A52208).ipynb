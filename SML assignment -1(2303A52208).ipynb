{
  "nbformat": 4,
  "nbformat_minor": 0,
  "metadata": {
    "colab": {
      "provenance": []
    },
    "kernelspec": {
      "name": "python3",
      "display_name": "Python 3"
    },
    "language_info": {
      "name": "python"
    }
  },
  "cells": [
    {
      "cell_type": "code",
      "execution_count": 2,
      "metadata": {
        "id": "sEbZ109xJMH4"
      },
      "outputs": [],
      "source": [
        "import pandas as pd\n",
        "import numpy as np\n",
        "import matplotlib.pyplot as plt\n",
        "import scipy as stats"
      ]
    },
    {
      "cell_type": "code",
      "source": [
        "X={2.3,2.5,3.6,2.8,3.1,2.9,3.2,2.7,2.8,3.0}\n",
        "plt.hist(X,bins=5,alpha=0.7,color=\"blue\", density=\"true\")\n",
        "plt.title(\"Histogram\")\n",
        "plt.ylabel(\"Density\")\n",
        "plt.xlabel(\"Value\")\n",
        "plt.show()"
      ],
      "metadata": {
        "colab": {
          "base_uri": "https://localhost:8080/",
          "height": 472
        },
        "id": "47S2vTW7OxKd",
        "outputId": "28eeb58d-eccc-4f55-ae3f-6f35d42db513"
      },
      "execution_count": 21,
      "outputs": [
        {
          "output_type": "display_data",
          "data": {
            "text/plain": [
              "<Figure size 640x480 with 1 Axes>"
            ],
            "image/png": "[encoded data removed]"
          },
          "metadata": {}
        }
      ]
    },
    {
      "cell_type": "code",
      "source": [
        "import numpy as np\n",
        "from scipy import  stats\n",
        "\n",
        "x = [4, 5, 8, 2, 4, 2, 5]\n",
        "y = [5, 6, 3, 8, 3, 7, 8]\n",
        "\n",
        "print(\"mean x=\", np.mean(x))\n",
        "print(\"mean y=\", np.mean(y))\n",
        "print(\"median x=\", np.median(x))\n",
        "print(\"median y=\", np.median(y))\n",
        "print(\"mode x=\", stats.mode(x))\n",
        "print(\"mode y=\", stats.mode(y))\n",
        "print(\"variance x=\", np.var(x))\n",
        "print(\"variance y=\", np.var(y))\n",
        "print(\"standard deviation x=\", np.std(x))\n",
        "print(\"standard deviation y=\", np.std(y))\n",
        "print(\"range x=\", np.ptp(x))\n",
        "print(\"range y=\", np.ptp(y))\n",
        "print(\"inquertile range x=\", stats.iqr(x))\n",
        "print(\"inquertile range  y=\", stats.iqr(y))\n",
        "print(\"skewness x=\", stats.skew(x))\n",
        "print(\"skewness y=\", stats.skew(y))\n",
        "print(\"kurtosis x=\", stats.kurtosis(x))\n",
        "print(\"kurtosis y=\", stats.kurtosis(y))"
      ],
      "metadata": {
        "colab": {
          "base_uri": "https://localhost:8080/"
        },
        "id": "NYZRJO-vUQvY",
        "outputId": "a5c495f7-69fc-4572-a158-2eda38b25572"
      },
      "execution_count": 35,
      "outputs": [
        {
          "output_type": "stream",
          "name": "stdout",
          "text": [
            "mean x= 4.285714285714286\n",
            "mean y= 5.714285714285714\n",
            "median x= 4.0\n",
            "median y= 6.0\n",
            "mode x= ModeResult(mode=2, count=2)\n",
            "mode y= ModeResult(mode=3, count=2)\n",
            "variance x= 3.6326530612244894\n",
            "variance y= 3.918367346938776\n",
            "standard deviation x= 1.9059520091609048\n",
            "standard deviation y= 1.979486637221574\n",
            "range x= 6\n",
            "range y= 5\n",
            "inquertile range x= 2.0\n",
            "inquertile range  y= 3.5\n",
            "skewness x= 0.5785710902698393\n",
            "skewness y= -0.26386711521557127\n",
            "kurtosis x= -0.34282287589950755\n",
            "kurtosis y= -1.4541015625000002\n"
          ]
        }
      ]
    },
    {
      "cell_type": "code",
      "source": [
        "import numpy as np\n",
        "from scipy import stats as s\n",
        "x=np.array([4,5,8,2,4,2,5])\n",
        "y=np.array([5,6,3,8,3,7,8])\n",
        "print(\"The mean of x is-\",np.mean(x))\n",
        "print(\"The mean of y is-\",np.mean(y))\n",
        "print(\"The median of x is-\",np.median(x))\n",
        "print(\"The median of y is-\",np.median(y))\n",
        "print(\"The mode of x is-\",s.mode(x))\n",
        "print(\"The mode of y is-\",s.mode(y))\n",
        "print(\"The Varience of x is-\",np.var(x))\n",
        "print(\"The Variance of x is-\",np.var(y))\n",
        "print(\"The Standard Deviation of x is-\",np.std(x))\n",
        "print(\"The Standard Deviation of y is-\",np.std(y))\n",
        "print(\"The Range of x is-\",np.ptp(x))\n",
        "print(\"The Range of y is-\",np.ptp(y))\n",
        "print(\"The Interquartile of x is-\",np.percentile(x,75)-np.percentile(x,25))\n",
        "print(\"The Interquartile of y is-\",np.percentile(y,75)-np.percentile(y,25))\n",
        "print(\"The Skewness of x is-\",s.skew(x))\n",
        "print(\"The Skewness of y is-\",s.skew(y))\n",
        "print(\"The Kurtosis of x is-\",s.kurtosis(x))\n",
        "print(\"The Kurtosis of y is-\",s.kurtosis(y))"
      ],
      "metadata": {
        "colab": {
          "base_uri": "https://localhost:8080/"
        },
        "id": "Usivp4t9bqBt",
        "outputId": "1826ef11-6399-42b6-c3ca-e0dd3e2203cf"
      },
      "execution_count": 36,
      "outputs": [
        {
          "output_type": "stream",
          "name": "stdout",
          "text": [
            "The mean of x is- 4.285714285714286\n",
            "The mean of y is- 5.714285714285714\n",
            "The median of x is- 4.0\n",
            "The median of y is- 6.0\n",
            "The mode of x is- ModeResult(mode=2, count=2)\n",
            "The mode of y is- ModeResult(mode=3, count=2)\n",
            "The Varience of x is- 3.6326530612244894\n",
            "The Variance of x is- 3.918367346938776\n",
            "The Standard Deviation of x is- 1.9059520091609048\n",
            "The Standard Deviation of y is- 1.979486637221574\n",
            "The Range of x is- 6\n",
            "The Range of y is- 5\n",
            "The Interquartile of x is- 2.0\n",
            "The Interquartile of y is- 3.5\n",
            "The Skewness of x is- 0.5785710902698393\n",
            "The Skewness of y is- -0.26386711521557127\n",
            "The Kurtosis of x is- -0.34282287589950755\n",
            "The Kurtosis of y is- -1.4541015625000002\n"
          ]
        }
      ]
    }
  ]
}