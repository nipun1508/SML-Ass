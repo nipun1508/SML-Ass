{
  "nbformat": 4,
  "nbformat_minor": 0,
  "metadata": {
    "colab": {
      "provenance": []
    },
    "kernelspec": {
      "name": "python3",
      "display_name": "Python 3"
    },
    "language_info": {
      "name": "python"
    }
  },
  "cells": [
    {
      "cell_type": "code",
      "source": [
        "# 1Q.\n",
        "\n",
        "import pandas as pd\n",
        "\n",
        "a = pd.read_csv('/content/train (1).csv')\n",
        "print(a)"
      ],
      "metadata": {
        "colab": {
          "base_uri": "https://localhost:8080/"
        },
        "id": "xAIEJeJ0PFaM",
        "outputId": "f45ac679-fc80-4a5a-f971-4fff856ba5c0"
      },
      "execution_count": null,
      "outputs": [
        {
          "output_type": "stream",
          "name": "stdout",
          "text": [
            "      battery_power  blue  clock_speed  dual_sim  fc  four_g  int_memory  \\\n",
            "0               842     0          2.2         0   1       0           7   \n",
            "1              1021     1          0.5         1   0       1          53   \n",
            "2               563     1          0.5         1   2       1          41   \n",
            "3               615     1          2.5         0   0       0          10   \n",
            "4              1821     1          1.2         0  13       1          44   \n",
            "...             ...   ...          ...       ...  ..     ...         ...   \n",
            "1995            794     1          0.5         1   0       1           2   \n",
            "1996           1965     1          2.6         1   0       0          39   \n",
            "1997           1911     0          0.9         1   1       1          36   \n",
            "1998           1512     0          0.9         0   4       1          46   \n",
            "1999            510     1          2.0         1   5       1          45   \n",
            "\n",
            "      m_dep  mobile_wt  n_cores  ...  px_height  px_width   ram  sc_h  sc_w  \\\n",
            "0       0.6        188        2  ...         20       756  2549     9     7   \n",
            "1       0.7        136        3  ...        905      1988  2631    17     3   \n",
            "2       0.9        145        5  ...       1263      1716  2603    11     2   \n",
            "3       0.8        131        6  ...       1216      1786  2769    16     8   \n",
            "4       0.6        141        2  ...       1208      1212  1411     8     2   \n",
            "...     ...        ...      ...  ...        ...       ...   ...   ...   ...   \n",
            "1995    0.8        106        6  ...       1222      1890   668    13     4   \n",
            "1996    0.2        187        4  ...        915      1965  2032    11    10   \n",
            "1997    0.7        108        8  ...        868      1632  3057     9     1   \n",
            "1998    0.1        145        5  ...        336       670   869    18    10   \n",
            "1999    0.9        168        6  ...        483       754  3919    19     4   \n",
            "\n",
            "      talk_time  three_g  touch_screen  wifi  price_range  \n",
            "0            19        0             0     1            1  \n",
            "1             7        1             1     0            2  \n",
            "2             9        1             1     0            2  \n",
            "3            11        1             0     0            2  \n",
            "4            15        1             1     0            1  \n",
            "...         ...      ...           ...   ...          ...  \n",
            "1995         19        1             1     0            0  \n",
            "1996         16        1             1     1            2  \n",
            "1997          5        1             1     0            3  \n",
            "1998         19        1             1     1            0  \n",
            "1999          2        1             1     1            3  \n",
            "\n",
            "[2000 rows x 21 columns]\n"
          ]
        }
      ]
    },
    {
      "cell_type": "code",
      "source": [
        "y=a['price_range']\n",
        "print(y)\n",
        "y.shape"
      ],
      "metadata": {
        "colab": {
          "base_uri": "https://localhost:8080/"
        },
        "id": "9GNOXTu1TNyN",
        "outputId": "8cc901ff-3c3a-418e-c7dd-ff5a101e99fc"
      },
      "execution_count": null,
      "outputs": [
        {
          "output_type": "stream",
          "name": "stdout",
          "text": [
            "0       1\n",
            "1       2\n",
            "2       2\n",
            "3       2\n",
            "4       1\n",
            "       ..\n",
            "1995    0\n",
            "1996    2\n",
            "1997    3\n",
            "1998    0\n",
            "1999    3\n",
            "Name: price_range, Length: 2000, dtype: int64\n"
          ]
        },
        {
          "output_type": "execute_result",
          "data": {
            "text/plain": [
              "(2000,)"
            ]
          },
          "metadata": {},
          "execution_count": 56
        }
      ]
    },
    {
      "cell_type": "code",
      "source": [
        "x=a.drop('price_range',axis=1)\n",
        "print(x)\n",
        "x.shape"
      ],
      "metadata": {
        "colab": {
          "base_uri": "https://localhost:8080/"
        },
        "id": "BBVxXYUFTbsG",
        "outputId": "94a71081-b683-4da8-9dbf-17c09907680b"
      },
      "execution_count": null,
      "outputs": [
        {
          "output_type": "stream",
          "name": "stdout",
          "text": [
            "      battery_power  blue  clock_speed  dual_sim  fc  four_g  int_memory  \\\n",
            "0               842     0          2.2         0   1       0           7   \n",
            "1              1021     1          0.5         1   0       1          53   \n",
            "2               563     1          0.5         1   2       1          41   \n",
            "3               615     1          2.5         0   0       0          10   \n",
            "4              1821     1          1.2         0  13       1          44   \n",
            "...             ...   ...          ...       ...  ..     ...         ...   \n",
            "1995            794     1          0.5         1   0       1           2   \n",
            "1996           1965     1          2.6         1   0       0          39   \n",
            "1997           1911     0          0.9         1   1       1          36   \n",
            "1998           1512     0          0.9         0   4       1          46   \n",
            "1999            510     1          2.0         1   5       1          45   \n",
            "\n",
            "      m_dep  mobile_wt  n_cores  pc  px_height  px_width   ram  sc_h  sc_w  \\\n",
            "0       0.6        188        2   2         20       756  2549     9     7   \n",
            "1       0.7        136        3   6        905      1988  2631    17     3   \n",
            "2       0.9        145        5   6       1263      1716  2603    11     2   \n",
            "3       0.8        131        6   9       1216      1786  2769    16     8   \n",
            "4       0.6        141        2  14       1208      1212  1411     8     2   \n",
            "...     ...        ...      ...  ..        ...       ...   ...   ...   ...   \n",
            "1995    0.8        106        6  14       1222      1890   668    13     4   \n",
            "1996    0.2        187        4   3        915      1965  2032    11    10   \n",
            "1997    0.7        108        8   3        868      1632  3057     9     1   \n",
            "1998    0.1        145        5   5        336       670   869    18    10   \n",
            "1999    0.9        168        6  16        483       754  3919    19     4   \n",
            "\n",
            "      talk_time  three_g  touch_screen  wifi  \n",
            "0            19        0             0     1  \n",
            "1             7        1             1     0  \n",
            "2             9        1             1     0  \n",
            "3            11        1             0     0  \n",
            "4            15        1             1     0  \n",
            "...         ...      ...           ...   ...  \n",
            "1995         19        1             1     0  \n",
            "1996         16        1             1     1  \n",
            "1997          5        1             1     0  \n",
            "1998         19        1             1     1  \n",
            "1999          2        1             1     1  \n",
            "\n",
            "[2000 rows x 20 columns]\n"
          ]
        },
        {
          "output_type": "execute_result",
          "data": {
            "text/plain": [
              "(2000, 20)"
            ]
          },
          "metadata": {},
          "execution_count": 57
        }
      ]
    },
    {
      "cell_type": "code",
      "source": [
        "aa=(x-x.min())/(x.max()-x.min())\n",
        "print(aa)"
      ],
      "metadata": {
        "colab": {
          "base_uri": "https://localhost:8080/"
        },
        "id": "GFv2ptVKTtFt",
        "outputId": "23fa6a9e-d2c2-49bd-eab4-c4e0b4fcde98"
      },
      "execution_count": null,
      "outputs": [
        {
          "output_type": "stream",
          "name": "stdout",
          "text": [
            "      battery_power  blue  clock_speed  dual_sim        fc  four_g  \\\n",
            "0          0.227789   0.0         0.68       0.0  0.052632     0.0   \n",
            "1          0.347361   1.0         0.00       1.0  0.000000     1.0   \n",
            "2          0.041416   1.0         0.00       1.0  0.105263     1.0   \n",
            "3          0.076152   1.0         0.80       0.0  0.000000     0.0   \n",
            "4          0.881764   1.0         0.28       0.0  0.684211     1.0   \n",
            "...             ...   ...          ...       ...       ...     ...   \n",
            "1995       0.195725   1.0         0.00       1.0  0.000000     1.0   \n",
            "1996       0.977956   1.0         0.84       1.0  0.000000     0.0   \n",
            "1997       0.941884   0.0         0.16       1.0  0.052632     1.0   \n",
            "1998       0.675351   0.0         0.16       0.0  0.210526     1.0   \n",
            "1999       0.006012   1.0         0.60       1.0  0.263158     1.0   \n",
            "\n",
            "      int_memory     m_dep  mobile_wt   n_cores    pc  px_height  px_width  \\\n",
            "0       0.080645  0.555556   0.900000  0.142857  0.10   0.010204  0.170895   \n",
            "1       0.822581  0.666667   0.466667  0.285714  0.30   0.461735  0.993324   \n",
            "2       0.629032  0.888889   0.541667  0.571429  0.30   0.644388  0.811749   \n",
            "3       0.129032  0.777778   0.425000  0.714286  0.45   0.620408  0.858478   \n",
            "4       0.677419  0.555556   0.508333  0.142857  0.70   0.616327  0.475300   \n",
            "...          ...       ...        ...       ...   ...        ...       ...   \n",
            "1995    0.000000  0.777778   0.216667  0.714286  0.70   0.623469  0.927904   \n",
            "1996    0.596774  0.111111   0.891667  0.428571  0.15   0.466837  0.977971   \n",
            "1997    0.548387  0.666667   0.233333  1.000000  0.15   0.442857  0.755674   \n",
            "1998    0.709677  0.000000   0.541667  0.571429  0.25   0.171429  0.113485   \n",
            "1999    0.693548  0.888889   0.733333  0.714286  0.80   0.246429  0.169559   \n",
            "\n",
            "           ram      sc_h      sc_w  talk_time  three_g  touch_screen  wifi  \n",
            "0     0.612774  0.285714  0.388889   0.944444      0.0           0.0   1.0  \n",
            "1     0.634687  0.857143  0.166667   0.277778      1.0           1.0   0.0  \n",
            "2     0.627205  0.428571  0.111111   0.388889      1.0           1.0   0.0  \n",
            "3     0.671566  0.785714  0.444444   0.500000      1.0           0.0   0.0  \n",
            "4     0.308658  0.214286  0.111111   0.722222      1.0           1.0   0.0  \n",
            "...        ...       ...       ...        ...      ...           ...   ...  \n",
            "1995  0.110102  0.571429  0.222222   0.944444      1.0           1.0   0.0  \n",
            "1996  0.474613  0.428571  0.555556   0.777778      1.0           1.0   1.0  \n",
            "1997  0.748530  0.285714  0.055556   0.166667      1.0           1.0   0.0  \n",
            "1998  0.163816  0.928571  0.555556   0.944444      1.0           1.0   1.0  \n",
            "1999  0.978888  1.000000  0.222222   0.000000      1.0           1.0   1.0  \n",
            "\n",
            "[2000 rows x 20 columns]\n"
          ]
        }
      ]
    },
    {
      "cell_type": "code",
      "source": [
        "from sklearn.model_selection import train_test_split\n",
        "x_train,x_test,y_train,y_test=train_test_split(aa,y,test_size=0.2,random_state=0)"
      ],
      "metadata": {
        "id": "kqIno_LgY0Xb"
      },
      "execution_count": null,
      "outputs": []
    },
    {
      "cell_type": "code",
      "source": [
        "print(x_train)"
      ],
      "metadata": {
        "colab": {
          "base_uri": "https://localhost:8080/"
        },
        "id": "4VTsoBNIY67k",
        "outputId": "d5109322-bd02-4428-f660-64a05f345956"
      },
      "execution_count": null,
      "outputs": [
        {
          "output_type": "stream",
          "name": "stdout",
          "text": [
            "      battery_power  blue  clock_speed  dual_sim        fc  four_g  \\\n",
            "582        0.488310   0.0         0.96       1.0  0.052632     1.0   \n",
            "159        0.894456   0.0         0.00       1.0  0.631579     0.0   \n",
            "1827       0.795591   0.0         0.64       0.0  0.210526     1.0   \n",
            "318        0.004676   0.0         0.12       0.0  0.368421     1.0   \n",
            "708        0.317969   1.0         0.92       1.0  0.105263     0.0   \n",
            "...             ...   ...          ...       ...       ...     ...   \n",
            "835        0.482966   1.0         0.44       0.0  0.473684     0.0   \n",
            "1216       0.438878   0.0         0.08       1.0  0.052632     1.0   \n",
            "1653       0.460254   0.0         0.60       1.0  0.000000     0.0   \n",
            "559        0.460922   0.0         0.76       1.0  0.105263     0.0   \n",
            "684        0.136941   0.0         0.00       0.0  0.684211     1.0   \n",
            "\n",
            "      int_memory     m_dep  mobile_wt   n_cores    pc  px_height  px_width  \\\n",
            "582     0.354839  0.222222   0.741667  0.571429  0.85   0.184184  0.206275   \n",
            "159     0.516129  0.666667   0.516667  0.000000  0.80   0.158673  0.697597   \n",
            "1827    0.000000  0.888889   0.216667  0.000000  0.85   0.968878  0.937250   \n",
            "318     0.645161  0.222222   0.116667  0.000000  0.40   0.019898  0.038051   \n",
            "708     0.532258  0.555556   0.708333  0.142857  0.75   0.766327  0.909212   \n",
            "...          ...       ...        ...       ...   ...        ...       ...   \n",
            "835     0.500000  1.000000   0.641667  0.000000  0.90   0.266327  0.042056   \n",
            "1216    0.435484  0.666667   0.358333  0.142857  1.00   0.158673  0.865154   \n",
            "1653    0.612903  0.111111   0.108333  0.571429  0.05   0.713776  0.765020   \n",
            "559     0.177419  0.888889   0.741667  0.000000  0.35   0.091327  0.876502   \n",
            "684     0.467742  0.000000   0.233333  0.285714  0.95   0.277041  0.292390   \n",
            "\n",
            "           ram      sc_h      sc_w  talk_time  three_g  touch_screen  wifi  \n",
            "582   0.267504  0.785714  0.555556   0.777778      1.0           0.0   0.0  \n",
            "159   0.219669  0.214286  0.000000   0.444444      0.0           0.0   0.0  \n",
            "1827  0.941475  0.285714  0.166667   0.277778      1.0           1.0   1.0  \n",
            "318   0.108765  0.571429  0.666667   0.277778      1.0           0.0   0.0  \n",
            "708   0.924105  1.000000  0.166667   0.444444      0.0           1.0   1.0  \n",
            "...        ...       ...       ...        ...      ...           ...   ...  \n",
            "835   0.946018  0.357143  0.277778   0.611111      1.0           1.0   0.0  \n",
            "1216  0.343666  0.857143  0.500000   0.722222      1.0           0.0   1.0  \n",
            "1653  0.896312  0.571429  0.388889   0.388889      0.0           0.0   1.0  \n",
            "559   0.206307  0.642857  0.333333   0.333333      1.0           1.0   1.0  \n",
            "684   0.578033  0.214286  0.388889   0.111111      1.0           0.0   1.0  \n",
            "\n",
            "[1600 rows x 20 columns]\n"
          ]
        }
      ]
    },
    {
      "cell_type": "code",
      "source": [
        "print(x_test)"
      ],
      "metadata": {
        "colab": {
          "base_uri": "https://localhost:8080/"
        },
        "id": "U6NG8fZhZF6n",
        "outputId": "f2bbb408-2ccc-4120-be9a-6b58fdb13976"
      },
      "execution_count": null,
      "outputs": [
        {
          "output_type": "stream",
          "name": "stdout",
          "text": [
            "      battery_power  blue  clock_speed  dual_sim        fc  four_g  \\\n",
            "405        0.636607   1.0         0.00       1.0  0.052632     0.0   \n",
            "1190       0.394790   1.0         0.00       1.0  0.526316     0.0   \n",
            "1132       0.683367   1.0         0.52       1.0  0.000000     0.0   \n",
            "731        0.872411   1.0         0.64       0.0  0.105263     0.0   \n",
            "1754       0.390782   1.0         0.48       1.0  0.000000     1.0   \n",
            "...             ...   ...          ...       ...       ...     ...   \n",
            "638        0.303273   0.0         0.00       1.0  0.210526     0.0   \n",
            "360        0.205745   0.0         0.12       0.0  0.526316     0.0   \n",
            "1810       0.062124   1.0         0.84       0.0  0.052632     0.0   \n",
            "1743       0.782899   1.0         0.44       0.0  0.105263     0.0   \n",
            "563        0.527054   0.0         0.00       0.0  0.000000     0.0   \n",
            "\n",
            "      int_memory     m_dep  mobile_wt   n_cores    pc  px_height  px_width  \\\n",
            "405     0.516129  0.666667   0.025000  0.428571  0.15   0.127551  0.355808   \n",
            "1190    0.145161  0.444444   0.725000  0.285714  0.70   0.238776  0.047397   \n",
            "1132    0.129032  0.555556   0.783333  0.428571  0.05   0.078571  0.033378   \n",
            "731     0.758065  0.777778   0.375000  0.000000  0.50   0.171939  0.590120   \n",
            "1754    0.661290  0.111111   0.258333  0.714286  0.05   0.028571  0.433912   \n",
            "...          ...       ...        ...       ...   ...        ...       ...   \n",
            "638     0.661290  0.888889   0.525000  0.571429  0.40   0.636735  0.674900   \n",
            "360     0.306452  0.888889   0.091667  0.857143  0.95   0.741327  0.818425   \n",
            "1810    0.403226  0.000000   0.966667  0.571429  0.10   0.207653  0.018692   \n",
            "1743    0.645161  0.444444   0.850000  0.571429  0.30   0.109184  0.119493   \n",
            "563     0.016129  0.000000   0.525000  0.714286  0.20   0.306122  0.406542   \n",
            "\n",
            "           ram      sc_h      sc_w  talk_time  three_g  touch_screen  wifi  \n",
            "405   0.845270  0.142857  0.277778   0.166667      1.0           1.0   0.0  \n",
            "1190  0.128541  0.642857  0.222222   0.500000      0.0           1.0   0.0  \n",
            "1132  0.647247  0.785714  0.277778   0.611111      1.0           0.0   1.0  \n",
            "731   0.440941  0.857143  0.722222   0.611111      0.0           1.0   1.0  \n",
            "1754  0.809460  0.428571  0.277778   0.833333      1.0           1.0   0.0  \n",
            "...        ...       ...       ...        ...      ...           ...   ...  \n",
            "638   0.314270  0.500000  0.500000   0.388889      1.0           1.0   1.0  \n",
            "360   0.272047  0.928571  0.388889   0.055556      0.0           0.0   0.0  \n",
            "1810  0.120791  0.857143  0.277778   0.833333      0.0           1.0   1.0  \n",
            "1743  0.758418  0.500000  0.222222   1.000000      0.0           0.0   0.0  \n",
            "563   0.256013  0.285714  0.444444   0.722222      0.0           1.0   1.0  \n",
            "\n",
            "[400 rows x 20 columns]\n"
          ]
        }
      ]
    },
    {
      "cell_type": "code",
      "source": [
        "print(y_train)"
      ],
      "metadata": {
        "colab": {
          "base_uri": "https://localhost:8080/"
        },
        "id": "Celu95hLZJHr",
        "outputId": "c4f7a8de-888c-4faf-f3b4-437b8913a0af"
      },
      "execution_count": null,
      "outputs": [
        {
          "output_type": "stream",
          "name": "stdout",
          "text": [
            "582     0\n",
            "159     1\n",
            "1827    3\n",
            "318     0\n",
            "708     3\n",
            "       ..\n",
            "835     3\n",
            "1216    1\n",
            "1653    3\n",
            "559     0\n",
            "684     1\n",
            "Name: price_range, Length: 1600, dtype: int64\n"
          ]
        }
      ]
    },
    {
      "cell_type": "code",
      "source": [
        "print(y_test)"
      ],
      "metadata": {
        "colab": {
          "base_uri": "https://localhost:8080/"
        },
        "id": "dQDYAKNgZZkh",
        "outputId": "7c474e92-8063-475c-d39e-d22870784ded"
      },
      "execution_count": null,
      "outputs": [
        {
          "output_type": "stream",
          "name": "stdout",
          "text": [
            "405     3\n",
            "1190    0\n",
            "1132    2\n",
            "731     2\n",
            "1754    2\n",
            "       ..\n",
            "638     1\n",
            "360     1\n",
            "1810    0\n",
            "1743    2\n",
            "563     1\n",
            "Name: price_range, Length: 400, dtype: int64\n"
          ]
        }
      ]
    },
    {
      "cell_type": "code",
      "source": [
        "print(aa.isnull())"
      ],
      "metadata": {
        "colab": {
          "base_uri": "https://localhost:8080/"
        },
        "id": "6MAyofOxZdCH",
        "outputId": "70279e6e-7db7-4dc3-ca38-8b10320283af"
      },
      "execution_count": null,
      "outputs": [
        {
          "output_type": "stream",
          "name": "stdout",
          "text": [
            "      battery_power   blue  clock_speed  dual_sim     fc  four_g  int_memory  \\\n",
            "0             False  False        False     False  False   False       False   \n",
            "1             False  False        False     False  False   False       False   \n",
            "2             False  False        False     False  False   False       False   \n",
            "3             False  False        False     False  False   False       False   \n",
            "4             False  False        False     False  False   False       False   \n",
            "...             ...    ...          ...       ...    ...     ...         ...   \n",
            "1995          False  False        False     False  False   False       False   \n",
            "1996          False  False        False     False  False   False       False   \n",
            "1997          False  False        False     False  False   False       False   \n",
            "1998          False  False        False     False  False   False       False   \n",
            "1999          False  False        False     False  False   False       False   \n",
            "\n",
            "      m_dep  mobile_wt  n_cores     pc  px_height  px_width    ram   sc_h  \\\n",
            "0     False      False    False  False      False     False  False  False   \n",
            "1     False      False    False  False      False     False  False  False   \n",
            "2     False      False    False  False      False     False  False  False   \n",
            "3     False      False    False  False      False     False  False  False   \n",
            "4     False      False    False  False      False     False  False  False   \n",
            "...     ...        ...      ...    ...        ...       ...    ...    ...   \n",
            "1995  False      False    False  False      False     False  False  False   \n",
            "1996  False      False    False  False      False     False  False  False   \n",
            "1997  False      False    False  False      False     False  False  False   \n",
            "1998  False      False    False  False      False     False  False  False   \n",
            "1999  False      False    False  False      False     False  False  False   \n",
            "\n",
            "       sc_w  talk_time  three_g  touch_screen   wifi  \n",
            "0     False      False    False         False  False  \n",
            "1     False      False    False         False  False  \n",
            "2     False      False    False         False  False  \n",
            "3     False      False    False         False  False  \n",
            "4     False      False    False         False  False  \n",
            "...     ...        ...      ...           ...    ...  \n",
            "1995  False      False    False         False  False  \n",
            "1996  False      False    False         False  False  \n",
            "1997  False      False    False         False  False  \n",
            "1998  False      False    False         False  False  \n",
            "1999  False      False    False         False  False  \n",
            "\n",
            "[2000 rows x 20 columns]\n"
          ]
        }
      ]
    },
    {
      "cell_type": "code",
      "source": [
        "x=x.fillna(0)\n",
        "print(x)"
      ],
      "metadata": {
        "colab": {
          "base_uri": "https://localhost:8080/"
        },
        "id": "H0ue-eafd0cu",
        "outputId": "4b5b3d23-3114-4f2c-c2be-15dcb9810d50"
      },
      "execution_count": null,
      "outputs": [
        {
          "output_type": "stream",
          "name": "stdout",
          "text": [
            "      battery_power  blue  clock_speed  dual_sim  fc  four_g  int_memory  \\\n",
            "0               842     0          2.2         0   1       0           7   \n",
            "1              1021     1          0.5         1   0       1          53   \n",
            "2               563     1          0.5         1   2       1          41   \n",
            "3               615     1          2.5         0   0       0          10   \n",
            "4              1821     1          1.2         0  13       1          44   \n",
            "...             ...   ...          ...       ...  ..     ...         ...   \n",
            "1995            794     1          0.5         1   0       1           2   \n",
            "1996           1965     1          2.6         1   0       0          39   \n",
            "1997           1911     0          0.9         1   1       1          36   \n",
            "1998           1512     0          0.9         0   4       1          46   \n",
            "1999            510     1          2.0         1   5       1          45   \n",
            "\n",
            "      m_dep  mobile_wt  n_cores  pc  px_height  px_width   ram  sc_h  sc_w  \\\n",
            "0       0.6        188        2   2         20       756  2549     9     7   \n",
            "1       0.7        136        3   6        905      1988  2631    17     3   \n",
            "2       0.9        145        5   6       1263      1716  2603    11     2   \n",
            "3       0.8        131        6   9       1216      1786  2769    16     8   \n",
            "4       0.6        141        2  14       1208      1212  1411     8     2   \n",
            "...     ...        ...      ...  ..        ...       ...   ...   ...   ...   \n",
            "1995    0.8        106        6  14       1222      1890   668    13     4   \n",
            "1996    0.2        187        4   3        915      1965  2032    11    10   \n",
            "1997    0.7        108        8   3        868      1632  3057     9     1   \n",
            "1998    0.1        145        5   5        336       670   869    18    10   \n",
            "1999    0.9        168        6  16        483       754  3919    19     4   \n",
            "\n",
            "      talk_time  three_g  touch_screen  wifi  \n",
            "0            19        0             0     1  \n",
            "1             7        1             1     0  \n",
            "2             9        1             1     0  \n",
            "3            11        1             0     0  \n",
            "4            15        1             1     0  \n",
            "...         ...      ...           ...   ...  \n",
            "1995         19        1             1     0  \n",
            "1996         16        1             1     1  \n",
            "1997          5        1             1     0  \n",
            "1998         19        1             1     1  \n",
            "1999          2        1             1     1  \n",
            "\n",
            "[2000 rows x 20 columns]\n"
          ]
        }
      ]
    },
    {
      "cell_type": "code",
      "source": [
        "print(a.dtypes)"
      ],
      "metadata": {
        "colab": {
          "base_uri": "https://localhost:8080/"
        },
        "id": "hr2TR8vYd7HJ",
        "outputId": "5f027abf-3a88-413e-d168-956e21ffcd50"
      },
      "execution_count": null,
      "outputs": [
        {
          "output_type": "stream",
          "name": "stdout",
          "text": [
            "battery_power      int64\n",
            "blue               int64\n",
            "clock_speed      float64\n",
            "dual_sim           int64\n",
            "fc                 int64\n",
            "four_g             int64\n",
            "int_memory         int64\n",
            "m_dep            float64\n",
            "mobile_wt          int64\n",
            "n_cores            int64\n",
            "pc                 int64\n",
            "px_height          int64\n",
            "px_width           int64\n",
            "ram                int64\n",
            "sc_h               int64\n",
            "sc_w               int64\n",
            "talk_time          int64\n",
            "three_g            int64\n",
            "touch_screen       int64\n",
            "wifi               int64\n",
            "price_range        int64\n",
            "dtype: object\n"
          ]
        }
      ]
    },
    {
      "cell_type": "code",
      "source": [
        "# 2Q.\n",
        "\n",
        "import pandas as pd\n",
        "\n",
        "b= pd.read_csv('/content/sample_data/california_housing_train.csv')\n",
        "print(b)"
      ],
      "metadata": {
        "colab": {
          "base_uri": "https://localhost:8080/"
        },
        "id": "M6rjSsGReXhg",
        "outputId": "cef35b7c-aa68-400b-c5eb-baa8726dcdd6"
      },
      "execution_count": null,
      "outputs": [
        {
          "output_type": "stream",
          "name": "stdout",
          "text": [
            "       longitude  latitude  housing_median_age  total_rooms  total_bedrooms  \\\n",
            "0        -114.31     34.19                15.0       5612.0          1283.0   \n",
            "1        -114.47     34.40                19.0       7650.0          1901.0   \n",
            "2        -114.56     33.69                17.0        720.0           174.0   \n",
            "3        -114.57     33.64                14.0       1501.0           337.0   \n",
            "4        -114.57     33.57                20.0       1454.0           326.0   \n",
            "...          ...       ...                 ...          ...             ...   \n",
            "16995    -124.26     40.58                52.0       2217.0           394.0   \n",
            "16996    -124.27     40.69                36.0       2349.0           528.0   \n",
            "16997    -124.30     41.84                17.0       2677.0           531.0   \n",
            "16998    -124.30     41.80                19.0       2672.0           552.0   \n",
            "16999    -124.35     40.54                52.0       1820.0           300.0   \n",
            "\n",
            "       population  households  median_income  median_house_value  \n",
            "0          1015.0       472.0         1.4936             66900.0  \n",
            "1          1129.0       463.0         1.8200             80100.0  \n",
            "2           333.0       117.0         1.6509             85700.0  \n",
            "3           515.0       226.0         3.1917             73400.0  \n",
            "4           624.0       262.0         1.9250             65500.0  \n",
            "...           ...         ...            ...                 ...  \n",
            "16995       907.0       369.0         2.3571            111400.0  \n",
            "16996      1194.0       465.0         2.5179             79000.0  \n",
            "16997      1244.0       456.0         3.0313            103600.0  \n",
            "16998      1298.0       478.0         1.9797             85800.0  \n",
            "16999       806.0       270.0         3.0147             94600.0  \n",
            "\n",
            "[17000 rows x 9 columns]\n"
          ]
        }
      ]
    },
    {
      "cell_type": "code",
      "source": [
        "print(b.dtypes)"
      ],
      "metadata": {
        "colab": {
          "base_uri": "https://localhost:8080/"
        },
        "id": "Dk2XneISfjXo",
        "outputId": "50e1920a-7973-4242-c380-b5590ea5fee5"
      },
      "execution_count": null,
      "outputs": [
        {
          "output_type": "stream",
          "name": "stdout",
          "text": [
            "longitude             float64\n",
            "latitude              float64\n",
            "housing_median_age    float64\n",
            "total_rooms           float64\n",
            "total_bedrooms        float64\n",
            "population            float64\n",
            "households            float64\n",
            "median_income         float64\n",
            "median_house_value    float64\n",
            "dtype: object\n"
          ]
        }
      ]
    },
    {
      "cell_type": "code",
      "source": [
        "print(b['longitude'].shape)\n",
        "print(b['latitude'].shape)\n",
        "print(b['housing_median_age'].shape)\n",
        "print(b['total_rooms'].shape)\n",
        "print(b['total_bedrooms'].shape)\n",
        "print(b['population'].shape)\n",
        "print(b['households'].shape)\n",
        "print(b['median_income'].shape)"
      ],
      "metadata": {
        "colab": {
          "base_uri": "https://localhost:8080/"
        },
        "id": "uEIrTZsCgHVy",
        "outputId": "de892f97-72a2-49e0-b687-ac3425e5cd88"
      },
      "execution_count": null,
      "outputs": [
        {
          "output_type": "stream",
          "name": "stdout",
          "text": [
            "(17000,)\n",
            "(17000,)\n",
            "(17000,)\n",
            "(17000,)\n",
            "(17000,)\n",
            "(17000,)\n",
            "(17000,)\n",
            "(17000,)\n"
          ]
        }
      ]
    },
    {
      "cell_type": "code",
      "source": [
        " y=b['median_house_value']\n",
        " print(y)"
      ],
      "metadata": {
        "colab": {
          "base_uri": "https://localhost:8080/"
        },
        "id": "cqsh_v7QgLEv",
        "outputId": "de73bfe3-d174-4c5d-de09-1bfbf402e809"
      },
      "execution_count": null,
      "outputs": [
        {
          "output_type": "stream",
          "name": "stdout",
          "text": [
            "0         66900.0\n",
            "1         80100.0\n",
            "2         85700.0\n",
            "3         73400.0\n",
            "4         65500.0\n",
            "           ...   \n",
            "16995    111400.0\n",
            "16996     79000.0\n",
            "16997    103600.0\n",
            "16998     85800.0\n",
            "16999     94600.0\n",
            "Name: median_house_value, Length: 17000, dtype: float64\n"
          ]
        }
      ]
    },
    {
      "cell_type": "code",
      "source": [
        "x=b.drop('median_house_value',axis=1)\n",
        "print(x)"
      ],
      "metadata": {
        "colab": {
          "base_uri": "https://localhost:8080/"
        },
        "id": "2ltoMte4hgt5",
        "outputId": "1c0e2201-4a12-4794-9782-9f5f3bf559cc"
      },
      "execution_count": null,
      "outputs": [
        {
          "output_type": "stream",
          "name": "stdout",
          "text": [
            "       longitude  latitude  housing_median_age  total_rooms  total_bedrooms  \\\n",
            "0        -114.31     34.19                15.0       5612.0          1283.0   \n",
            "1        -114.47     34.40                19.0       7650.0          1901.0   \n",
            "2        -114.56     33.69                17.0        720.0           174.0   \n",
            "3        -114.57     33.64                14.0       1501.0           337.0   \n",
            "4        -114.57     33.57                20.0       1454.0           326.0   \n",
            "...          ...       ...                 ...          ...             ...   \n",
            "16995    -124.26     40.58                52.0       2217.0           394.0   \n",
            "16996    -124.27     40.69                36.0       2349.0           528.0   \n",
            "16997    -124.30     41.84                17.0       2677.0           531.0   \n",
            "16998    -124.30     41.80                19.0       2672.0           552.0   \n",
            "16999    -124.35     40.54                52.0       1820.0           300.0   \n",
            "\n",
            "       population  households  median_income  \n",
            "0          1015.0       472.0         1.4936  \n",
            "1          1129.0       463.0         1.8200  \n",
            "2           333.0       117.0         1.6509  \n",
            "3           515.0       226.0         3.1917  \n",
            "4           624.0       262.0         1.9250  \n",
            "...           ...         ...            ...  \n",
            "16995       907.0       369.0         2.3571  \n",
            "16996      1194.0       465.0         2.5179  \n",
            "16997      1244.0       456.0         3.0313  \n",
            "16998      1298.0       478.0         1.9797  \n",
            "16999       806.0       270.0         3.0147  \n",
            "\n",
            "[17000 rows x 8 columns]\n"
          ]
        }
      ]
    },
    {
      "cell_type": "code",
      "source": [
        "print(b.isnull())"
      ],
      "metadata": {
        "colab": {
          "base_uri": "https://localhost:8080/"
        },
        "id": "gEfV2YvVhhJg",
        "outputId": "4d524e9e-cc54-46d4-f4f7-873fb36e6b81"
      },
      "execution_count": null,
      "outputs": [
        {
          "output_type": "stream",
          "name": "stdout",
          "text": [
            "       longitude  latitude  housing_median_age  total_rooms  total_bedrooms  \\\n",
            "0          False     False               False        False           False   \n",
            "1          False     False               False        False           False   \n",
            "2          False     False               False        False           False   \n",
            "3          False     False               False        False           False   \n",
            "4          False     False               False        False           False   \n",
            "...          ...       ...                 ...          ...             ...   \n",
            "16995      False     False               False        False           False   \n",
            "16996      False     False               False        False           False   \n",
            "16997      False     False               False        False           False   \n",
            "16998      False     False               False        False           False   \n",
            "16999      False     False               False        False           False   \n",
            "\n",
            "       population  households  median_income  median_house_value  \n",
            "0           False       False          False               False  \n",
            "1           False       False          False               False  \n",
            "2           False       False          False               False  \n",
            "3           False       False          False               False  \n",
            "4           False       False          False               False  \n",
            "...           ...         ...            ...                 ...  \n",
            "16995       False       False          False               False  \n",
            "16996       False       False          False               False  \n",
            "16997       False       False          False               False  \n",
            "16998       False       False          False               False  \n",
            "16999       False       False          False               False  \n",
            "\n",
            "[17000 rows x 9 columns]\n"
          ]
        }
      ]
    },
    {
      "cell_type": "code",
      "source": [
        "x=x.fillna(0)\n",
        "print(x)"
      ],
      "metadata": {
        "colab": {
          "base_uri": "https://localhost:8080/"
        },
        "id": "F1q-LSWHhhYV",
        "outputId": "08bf354c-add9-4c3c-c17b-d7efb0580da0"
      },
      "execution_count": null,
      "outputs": [
        {
          "output_type": "stream",
          "name": "stdout",
          "text": [
            "       longitude  latitude  housing_median_age  total_rooms  total_bedrooms  \\\n",
            "0        -114.31     34.19                15.0       5612.0          1283.0   \n",
            "1        -114.47     34.40                19.0       7650.0          1901.0   \n",
            "2        -114.56     33.69                17.0        720.0           174.0   \n",
            "3        -114.57     33.64                14.0       1501.0           337.0   \n",
            "4        -114.57     33.57                20.0       1454.0           326.0   \n",
            "...          ...       ...                 ...          ...             ...   \n",
            "16995    -124.26     40.58                52.0       2217.0           394.0   \n",
            "16996    -124.27     40.69                36.0       2349.0           528.0   \n",
            "16997    -124.30     41.84                17.0       2677.0           531.0   \n",
            "16998    -124.30     41.80                19.0       2672.0           552.0   \n",
            "16999    -124.35     40.54                52.0       1820.0           300.0   \n",
            "\n",
            "       population  households  median_income  \n",
            "0          1015.0       472.0         1.4936  \n",
            "1          1129.0       463.0         1.8200  \n",
            "2           333.0       117.0         1.6509  \n",
            "3           515.0       226.0         3.1917  \n",
            "4           624.0       262.0         1.9250  \n",
            "...           ...         ...            ...  \n",
            "16995       907.0       369.0         2.3571  \n",
            "16996      1194.0       465.0         2.5179  \n",
            "16997      1244.0       456.0         3.0313  \n",
            "16998      1298.0       478.0         1.9797  \n",
            "16999       806.0       270.0         3.0147  \n",
            "\n",
            "[17000 rows x 8 columns]\n"
          ]
        }
      ]
    },
    {
      "cell_type": "code",
      "source": [
        "bb=(x-x.min())/(x.max()-x.min())\n",
        "print(bb)"
      ],
      "metadata": {
        "colab": {
          "base_uri": "https://localhost:8080/"
        },
        "id": "LkjjF-ITjOcP",
        "outputId": "e16c8dae-11bd-4850-aac2-8c3c4deae9de"
      },
      "execution_count": null,
      "outputs": [
        {
          "output_type": "stream",
          "name": "stdout",
          "text": [
            "       longitude  latitude  housing_median_age  total_rooms  total_bedrooms  \\\n",
            "0       1.000000  0.175345            0.274510     0.147885        0.198945   \n",
            "1       0.984064  0.197662            0.352941     0.201608        0.294848   \n",
            "2       0.975100  0.122210            0.313725     0.018927        0.026847   \n",
            "3       0.974104  0.116897            0.254902     0.039515        0.052142   \n",
            "4       0.974104  0.109458            0.372549     0.038276        0.050435   \n",
            "...          ...       ...                 ...          ...             ...   \n",
            "16995   0.008964  0.854410            1.000000     0.058389        0.060987   \n",
            "16996   0.007968  0.866100            0.686275     0.061869        0.081782   \n",
            "16997   0.004980  0.988310            0.313725     0.070515        0.082247   \n",
            "16998   0.004980  0.984060            0.352941     0.070384        0.085506   \n",
            "16999   0.000000  0.850159            1.000000     0.047924        0.046400   \n",
            "\n",
            "       population  households  median_income  \n",
            "0        0.028364    0.077454       0.068530  \n",
            "1        0.031559    0.075974       0.091040  \n",
            "2        0.009249    0.019076       0.079378  \n",
            "3        0.014350    0.037000       0.185639  \n",
            "4        0.017405    0.042921       0.098281  \n",
            "...           ...         ...            ...  \n",
            "16995    0.025337    0.060516       0.128081  \n",
            "16996    0.033381    0.076303       0.139170  \n",
            "16997    0.034782    0.074823       0.174577  \n",
            "16998    0.036296    0.078441       0.102054  \n",
            "16999    0.022506    0.044236       0.173432  \n",
            "\n",
            "[17000 rows x 8 columns]\n"
          ]
        }
      ]
    },
    {
      "cell_type": "code",
      "source": [
        "from sklearn.model_selection import train_test_split\n",
        "x_train,x_test,y_train,y_test=train_test_split(bb,y,test_size=0.2,random_state=10)"
      ],
      "metadata": {
        "id": "8OEUWXSljTKL"
      },
      "execution_count": null,
      "outputs": []
    },
    {
      "cell_type": "code",
      "source": [
        "print(x_train)"
      ],
      "metadata": {
        "colab": {
          "base_uri": "https://localhost:8080/"
        },
        "id": "bqLQMzoyjwCV",
        "outputId": "fcfecba8-12d6-44ed-fbc1-e502147c9cfe"
      },
      "execution_count": null,
      "outputs": [
        {
          "output_type": "stream",
          "name": "stdout",
          "text": [
            "       longitude  latitude  housing_median_age  total_rooms  total_bedrooms  \\\n",
            "7775    0.593625  0.177471            0.607843     0.049216        0.068281   \n",
            "11339   0.314741  0.651435            0.294118     0.046184        0.043917   \n",
            "3094    0.650398  0.160468            0.392157     0.106208        0.143079   \n",
            "12353   0.280876  0.706695            0.509804     0.054778        0.063780   \n",
            "14245   0.226096  0.511158            0.627451     0.063161        0.049038   \n",
            "...          ...       ...                 ...          ...             ...   \n",
            "4829    0.623506  0.145590            0.254902     0.062396        0.093575   \n",
            "10201   0.446215  0.450584            0.058824     0.160801        0.172719   \n",
            "9372    0.513944  0.172157            0.647059     0.068749        0.072160   \n",
            "7291    0.598606  0.158342            0.921569     0.037538        0.051210   \n",
            "7293    0.598606  0.157279            0.960784     0.030842        0.040348   \n",
            "\n",
            "       population  households  median_income  \n",
            "7775     0.042406    0.070877       0.219625  \n",
            "11339    0.021581    0.045387       0.297727  \n",
            "3094     0.071611    0.136984       0.183735  \n",
            "12353    0.030242    0.062654       0.141350  \n",
            "14245    0.023235    0.051472       0.679935  \n",
            "...           ...         ...            ...  \n",
            "4829     0.043247    0.076139       0.227376  \n",
            "10201    0.095378    0.183194       0.201473  \n",
            "9372     0.043163    0.071041       0.239466  \n",
            "7291     0.021890    0.058379       0.079875  \n",
            "7293     0.019115    0.042592       0.182363  \n",
            "\n",
            "[13600 rows x 8 columns]\n"
          ]
        }
      ]
    },
    {
      "cell_type": "code",
      "source": [
        "print(x_test)"
      ],
      "metadata": {
        "colab": {
          "base_uri": "https://localhost:8080/"
        },
        "id": "DDL8UWeYj_nh",
        "outputId": "8fc04a07-6586-4962-b3e6-ba469b11d40b"
      },
      "execution_count": null,
      "outputs": [
        {
          "output_type": "stream",
          "name": "stdout",
          "text": [
            "       longitude  latitude  housing_median_age  total_rooms  total_bedrooms  \\\n",
            "10270   0.432271  0.678002            0.431373     0.025359        0.038020   \n",
            "1528    0.711155  0.052072            0.372549     0.088783        0.067039   \n",
            "7778    0.593625  0.176408            0.313725     0.068327        0.159373   \n",
            "10724   0.370518  0.275239            0.294118     0.070594        0.109094   \n",
            "3481    0.642430  0.164718            0.647059     0.041123        0.042055   \n",
            "...          ...       ...                 ...          ...             ...   \n",
            "3157    0.649402  0.117960            0.137255     0.056597        0.065953   \n",
            "5505    0.616534  0.130712            0.549020     0.081086        0.121819   \n",
            "7639    0.595618  0.158342            0.745098     0.005562        0.006673   \n",
            "5576    0.615538  0.138151            0.862745     0.048794        0.050745   \n",
            "16336   0.183267  0.578108            0.705882     0.126506        0.108318   \n",
            "\n",
            "       population  households  median_income  \n",
            "10270    0.013509    0.032396       0.084061  \n",
            "1528     0.028504    0.066930       0.730418  \n",
            "7778     0.110625    0.159842       0.105854  \n",
            "10724    0.027243    0.101628       0.088819  \n",
            "3481     0.023039    0.043578       0.250003  \n",
            "...           ...         ...            ...  \n",
            "3157     0.026542    0.065450       0.248990  \n",
            "5505     0.040836    0.120868       0.163798  \n",
            "7639     0.003784    0.008387       0.112074  \n",
            "5576     0.026402    0.052458       0.315775  \n",
            "16336    0.051207    0.111495       0.384567  \n",
            "\n",
            "[3400 rows x 8 columns]\n"
          ]
        }
      ]
    },
    {
      "cell_type": "code",
      "source": [
        "print(y_train)"
      ],
      "metadata": {
        "colab": {
          "base_uri": "https://localhost:8080/"
        },
        "id": "zLBl1B35j_v2",
        "outputId": "e3c2a981-0073-4fa5-fe1c-48efa05e3a43"
      },
      "execution_count": null,
      "outputs": [
        {
          "output_type": "stream",
          "name": "stdout",
          "text": [
            "7775     178500.0\n",
            "11339    147000.0\n",
            "3094     117300.0\n",
            "12353     98300.0\n",
            "14245    500001.0\n",
            "           ...   \n",
            "4829     159400.0\n",
            "10201     84500.0\n",
            "9372     189000.0\n",
            "7291     118800.0\n",
            "7293     130300.0\n",
            "Name: median_house_value, Length: 13600, dtype: float64\n"
          ]
        }
      ]
    },
    {
      "cell_type": "code",
      "source": [
        "print(y_test)"
      ],
      "metadata": {
        "colab": {
          "base_uri": "https://localhost:8080/"
        },
        "id": "wkoHIEzzj_5v",
        "outputId": "6f39c046-c239-42c6-a37f-03b19c5603fd"
      },
      "execution_count": null,
      "outputs": [
        {
          "output_type": "stream",
          "name": "stdout",
          "text": [
            "10270     96100.0\n",
            "1528     500001.0\n",
            "7778     177200.0\n",
            "10724     55000.0\n",
            "3481     220800.0\n",
            "           ...   \n",
            "3157     250400.0\n",
            "5505     232500.0\n",
            "7639     196400.0\n",
            "5576     219200.0\n",
            "16336    487800.0\n",
            "Name: median_house_value, Length: 3400, dtype: float64\n"
          ]
        }
      ]
    }
  ]
}