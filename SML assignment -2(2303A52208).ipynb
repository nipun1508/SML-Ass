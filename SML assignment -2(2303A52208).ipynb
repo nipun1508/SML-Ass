{
  "nbformat": 4,
  "nbformat_minor": 0,
  "metadata": {
    "colab": {
      "provenance": []
    },
    "kernelspec": {
      "name": "python3",
      "display_name": "Python 3"
    },
    "language_info": {
      "name": "python"
    }
  },
  "cells": [
    {
      "cell_type": "code",
      "execution_count": 6,
      "metadata": {
        "colab": {
          "base_uri": "https://localhost:8080/",
          "height": 472
        },
        "id": "d1ICe-tFd2Pu",
        "outputId": "8c9286fa-f196-41be-837e-bc4737b16863"
      },
      "outputs": [
        {
          "output_type": "display_data",
          "data": {
            "text/plain": [
              "<Figure size 640x480 with 1 Axes>"
            ],
            "image/png": "[encoded data removed]"
          },
          "metadata": {}
        }
      ],
      "source": [
        "import pandas as pd\n",
        "import numpy as np\n",
        "import matplotlib.pyplot as plt\n",
        "import scipy as stats\n",
        "\n",
        "X={1.3,1.5,2.6,2.6,3.2,3.9,4.2,3.7,3.10,3.0,11,6.7,1.9}\n",
        "plt.hist(X,bins=5,alpha=0.7,color=\"blue\", density=\"true\")\n",
        "plt.title(\"Histogram\")\n",
        "plt.ylabel(\"Density\")\n",
        "plt.xlabel(\"Value\")\n",
        "plt.show()"
      ]
    },
    {
      "cell_type": "code",
      "source": [
        "import numpy as np\n",
        "from scipy import  stats as s\n",
        "\n",
        "x = [12,13,56,23,41,28,51]\n",
        "y = [51,63,37,88,33,72,81]\n",
        "\n",
        "print(\"mean x=\", np.mean(x))\n",
        "print(\"mean y=\", np.mean(y))\n",
        "print(\"median x=\", np.median(x))\n",
        "print(\"median y=\", np.median(y))\n",
        "print(\"mode x=\", stats.mode(x))\n",
        "print(\"mode y=\", stats.mode(y))\n",
        "print(\"variance x=\", np.var(x))\n",
        "print(\"variance y=\", np.var(y))\n",
        "print(\"standard deviation x=\", np.std(x))\n",
        "print(\"standard deviation y=\", np.std(y))\n",
        "print(\"range x=\", np.ptp(x))\n",
        "print(\"range y=\", np.ptp(y))\n",
        "print(\"inquertile range x=\", stats.iqr(x))\n",
        "print(\"inquertile range  y=\", stats.iqr(y))\n",
        "print(\"skewness x=\", stats.skew(x))\n",
        "print(\"skewness y=\", stats.skew(y))\n",
        "print(\"kurtosis x=\", stats.kurtosis(x))\n",
        "print(\"kurtosis y=\", stats.kurtosis(y))"
      ],
      "metadata": {
        "colab": {
          "base_uri": "https://localhost:8080/"
        },
        "id": "LQDZlYUAeW7i",
        "outputId": "c82d4003-a932-4853-eaf6-60914504eb67"
      },
      "execution_count": 4,
      "outputs": [
        {
          "output_type": "stream",
          "name": "stdout",
          "text": [
            "mean x= 32.0\n",
            "mean y= 60.714285714285715\n",
            "median x= 28.0\n",
            "median y= 63.0\n",
            "mode x= ModeResult(mode=12, count=1)\n",
            "mode y= ModeResult(mode=33, count=1)\n",
            "variance x= 268.0\n",
            "variance y= 387.6326530612245\n",
            "standard deviation x= 16.3707055437449\n",
            "standard deviation y= 19.68838878784205\n",
            "range x= 44\n",
            "range y= 55\n",
            "inquertile range x= 28.0\n",
            "inquertile range  y= 32.5\n",
            "skewness x= 0.18755223867066048\n",
            "skewness y= -0.10160487226954186\n",
            "kurtosis x= -1.47684021258314\n",
            "kurtosis y= -1.4265295827972655\n"
          ]
        }
      ]
    },
    {
      "cell_type": "code",
      "source": [
        "import numpy as np\n",
        "from scipy import  stats as s\n",
        "\n",
        "x = [12,13,56,23,41,28,51]\n",
        "y = [51,63,37,88,33,72,81]\n",
        "\n",
        "print(\"mean x=\", np.mean(x))\n",
        "print(\"mean y=\", np.mean(y))\n",
        "print(\"median x=\", np.median(x))\n",
        "print(\"median y=\", np.median(y))\n",
        "print(\"mode x=\", stats.mode(x))\n",
        "print(\"mode y=\", stats.mode(y))\n",
        "print(\"variance x=\", np.var(x))\n",
        "print(\"variance y=\", np.var(y))\n",
        "print(\"standard deviation x=\", np.std(x))\n",
        "print(\"standard deviation y=\", np.std(y))\n",
        "print(\"range x=\", np.ptp(x))\n",
        "print(\"range y=\", np.ptp(y))\n",
        "print(\"inquertile range x=\", stats.iqr(x))\n",
        "print(\"inquertile range  y=\", stats.iqr(y))\n",
        "print(\"skewness x=\", stats.skew(x))\n",
        "print(\"skewness y=\", stats.skew(y))\n",
        "print(\"kurtosis x=\", stats.kurtosis(x))\n",
        "print(\"kurtosis y=\", stats.kurtosis(y))"
      ],
      "metadata": {
        "colab": {
          "base_uri": "https://localhost:8080/"
        },
        "id": "1yF8-1_ae6yI",
        "outputId": "22b75f85-67b1-4905-a6fc-9c8e20f90a6d"
      },
      "execution_count": 5,
      "outputs": [
        {
          "output_type": "stream",
          "name": "stdout",
          "text": [
            "mean x= 32.0\n",
            "mean y= 60.714285714285715\n",
            "median x= 28.0\n",
            "median y= 63.0\n",
            "mode x= ModeResult(mode=12, count=1)\n",
            "mode y= ModeResult(mode=33, count=1)\n",
            "variance x= 268.0\n",
            "variance y= 387.6326530612245\n",
            "standard deviation x= 16.3707055437449\n",
            "standard deviation y= 19.68838878784205\n",
            "range x= 44\n",
            "range y= 55\n",
            "inquertile range x= 28.0\n",
            "inquertile range  y= 32.5\n",
            "skewness x= 0.18755223867066048\n",
            "skewness y= -0.10160487226954186\n",
            "kurtosis x= -1.47684021258314\n",
            "kurtosis y= -1.4265295827972655\n"
          ]
        }
      ]
    }
  ]
}